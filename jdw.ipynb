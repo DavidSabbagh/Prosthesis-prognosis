{
 "cells": [
  {
   "cell_type": "markdown",
   "metadata": {},
   "source": [
    "# Predict shoulder prognosis from prosthesis position\n",
    "\n",
    "Predict each of those clinical outcome:\n",
    "- AFE = forward elevation in degree, the higher the better\n",
    "- AIR = highest vertebra touched, buttock < SI < ... < L3 < ... < T12 < T8\n",
    "- AER = external rotation in degree, the higher the better\n",
    "- PAIN = felt pain, the higher the worst\n",
    "- TOTAL = fonctional score, the higher the better\n",
    "- SCAP = scapula postop fracture\n",
    "\n",
    "from the preop/postop prosthesis position: \n",
    "- LSA (lateralisation angle)\n",
    "- DSA (distalisation angle)\n",
    "- GT-glenoide\n",
    "- CDR-glenoide\n",
    "- H: acromi\n",
    "- L: Acromi\n",
    "- beta angle\n",
    "- tilt horzontal (angle negatif vers le haut, pas bien)\n",
    "- tilt fosse (angle negatif qd omoplate regarde vers le haut)\n",
    "- CSA (only preop)\n",
    "- do not take CDR GT (hidden)\n",
    "\n",
    "Is there a position that gives best result for 1/ everyone or 2/ with respect to preop data ?\n",
    "\n",
    "ask JDW de me rappeler les unités et intervals de chaque feature"
   ]
  },
  {
   "cell_type": "code",
   "execution_count": 222,
   "metadata": {},
   "outputs": [
    {
     "name": "stdout",
     "output_type": "stream",
     "text": [
      "Number of included patients: 101\n"
     ]
    }
   ],
   "source": [
    "import pandas as pd\n",
    "\n",
    "xls = pd.ExcelFile('./Stats_David_new.xlsx')\n",
    "patients = pd.read_excel(xls, 'Datas and History', header=2)\n",
    "patients = patients[['No.', 'INCLUDE']]\n",
    "print(f\"Number of included patients: {patients[patients['INCLUDE'] == 1.0].shape[0]}\")"
   ]
  },
  {
   "cell_type": "code",
   "execution_count": 223,
   "metadata": {},
   "outputs": [],
   "source": [
    "# clinical outcomes to predict...\n",
    "y = pd.read_excel(xls, 'COMPL+Clinic FU', header=2)\n",
    "yincl = pd.merge(y, patients, on='No.')\n",
    "y = yincl.loc[yincl['INCLUDE'] == 1.0]\n",
    "y = y[['No.','Scapular Fracture', 'A FE °', 'A IR (Hand)', 'A ER°', 'Pain ', 'Total']]\n",
    "y.columns = ['No.', 'ySCAP', 'yAFE', 'yAIR', 'yAER', 'yPain', 'yTotal']"
   ]
  },
  {
   "cell_type": "code",
   "execution_count": 224,
   "metadata": {},
   "outputs": [],
   "source": [
    "# ...from prosthesis position\n",
    "preX = pd.read_excel(xls, 'Preop Rx', header=0)\n",
    "preXincl = pd.merge(preX, patients, on='No.')\n",
    "preX = preXincl.loc[preXincl['INCLUDE'] == 1.0]\n",
    "preX = preX[['No.', 'CSA', 'LSA', 'DSA', 'Glene - CDR', 'Glene-GT',\n",
    "             'H: Acromion-GT', 'L: Acromion - GT', 'Beta Angle',\n",
    "             'Tilt Horizontale', 'Tilt fosse/Horizontale']]\n",
    "preX.columns = ['No.', 'CSA', 'preLSA', 'preDSA', 'preGleneCDR', 'preGleneGT',\n",
    "                'preAcromionH', 'preAcromionL', 'preBetaAngle',\n",
    "                'preTiltH', 'preTiltF']\n",
    "\n",
    "postX = pd.read_excel(xls, 'Postop RX', header=0)\n",
    "postXincl = pd.merge(postX, patients, on='No.')\n",
    "postX = postXincl.loc[postXincl['INCLUDE'] == 1.0]\n",
    "postX = postX[['No.', 'LSA', 'DSA', 'CDR-Glenoid', 'GT-Glenoid',\n",
    "               'H: Acromion-GT', 'L: Acromion - GT', 'Beta Angle',\n",
    "               'Tilt Verticale', 'Tilt fosse/Horizontale']]\n",
    "postX.columns = ['No.', 'postLSA', 'postDSA', 'postGleneCDR', 'postGleneGT',\n",
    "                 'postAcromionH', 'postAcromionL', 'postBetaAngle',\n",
    "                 'postTiltH', 'postTiltF']\n",
    "\n",
    "X = pd.merge(preX, postX, on='No.')\n",
    "data = pd.merge(X, y, on='No.')\n",
    "data = data.set_index('No.')"
   ]
  },
  {
   "cell_type": "code",
   "execution_count": 225,
   "metadata": {},
   "outputs": [
    {
     "data": {
      "text/html": [
       "<div>\n",
       "<style scoped>\n",
       "    .dataframe tbody tr th:only-of-type {\n",
       "        vertical-align: middle;\n",
       "    }\n",
       "\n",
       "    .dataframe tbody tr th {\n",
       "        vertical-align: top;\n",
       "    }\n",
       "\n",
       "    .dataframe thead th {\n",
       "        text-align: right;\n",
       "    }\n",
       "</style>\n",
       "<table border=\"1\" class=\"dataframe\">\n",
       "  <thead>\n",
       "    <tr style=\"text-align: right;\">\n",
       "      <th></th>\n",
       "      <th>CSA</th>\n",
       "      <th>preLSA</th>\n",
       "      <th>preDSA</th>\n",
       "      <th>preGleneCDR</th>\n",
       "      <th>preGleneGT</th>\n",
       "      <th>preAcromionH</th>\n",
       "      <th>preAcromionL</th>\n",
       "      <th>preBetaAngle</th>\n",
       "      <th>preTiltH</th>\n",
       "      <th>preTiltF</th>\n",
       "      <th>...</th>\n",
       "      <th>postAcromionL</th>\n",
       "      <th>postBetaAngle</th>\n",
       "      <th>postTiltH</th>\n",
       "      <th>postTiltF</th>\n",
       "      <th>ySCAP</th>\n",
       "      <th>yAFE</th>\n",
       "      <th>yAIR</th>\n",
       "      <th>yAER</th>\n",
       "      <th>yPain</th>\n",
       "      <th>yTotal</th>\n",
       "    </tr>\n",
       "    <tr>\n",
       "      <th>No.</th>\n",
       "      <th></th>\n",
       "      <th></th>\n",
       "      <th></th>\n",
       "      <th></th>\n",
       "      <th></th>\n",
       "      <th></th>\n",
       "      <th></th>\n",
       "      <th></th>\n",
       "      <th></th>\n",
       "      <th></th>\n",
       "      <th></th>\n",
       "      <th></th>\n",
       "      <th></th>\n",
       "      <th></th>\n",
       "      <th></th>\n",
       "      <th></th>\n",
       "      <th></th>\n",
       "      <th></th>\n",
       "      <th></th>\n",
       "      <th></th>\n",
       "      <th></th>\n",
       "    </tr>\n",
       "  </thead>\n",
       "  <tbody>\n",
       "    <tr>\n",
       "      <td>1</td>\n",
       "      <td>22.27</td>\n",
       "      <td>68.65</td>\n",
       "      <td>30.47</td>\n",
       "      <td>3.03</td>\n",
       "      <td>5.59</td>\n",
       "      <td>2.73</td>\n",
       "      <td>-0.65</td>\n",
       "      <td>86.75</td>\n",
       "      <td>22.92</td>\n",
       "      <td>26.17</td>\n",
       "      <td>...</td>\n",
       "      <td>1.07</td>\n",
       "      <td>71.97</td>\n",
       "      <td>5.12</td>\n",
       "      <td>23.15</td>\n",
       "      <td>0</td>\n",
       "      <td>160</td>\n",
       "      <td>T12</td>\n",
       "      <td>10</td>\n",
       "      <td>15.0</td>\n",
       "      <td>80.0</td>\n",
       "    </tr>\n",
       "    <tr>\n",
       "      <td>2</td>\n",
       "      <td>33.64</td>\n",
       "      <td>89.11</td>\n",
       "      <td>24.09</td>\n",
       "      <td>3.62</td>\n",
       "      <td>6.02</td>\n",
       "      <td>2.16</td>\n",
       "      <td>0.95</td>\n",
       "      <td>71.52</td>\n",
       "      <td>4.35</td>\n",
       "      <td>22.83</td>\n",
       "      <td>...</td>\n",
       "      <td>1.96</td>\n",
       "      <td>83.54</td>\n",
       "      <td>10.72</td>\n",
       "      <td>17.18</td>\n",
       "      <td>0</td>\n",
       "      <td>160</td>\n",
       "      <td>T12</td>\n",
       "      <td>60</td>\n",
       "      <td>15.0</td>\n",
       "      <td>81.0</td>\n",
       "    </tr>\n",
       "    <tr>\n",
       "      <td>4</td>\n",
       "      <td>32.63</td>\n",
       "      <td>95.86</td>\n",
       "      <td>27.62</td>\n",
       "      <td>3.11</td>\n",
       "      <td>5.61</td>\n",
       "      <td>1.46</td>\n",
       "      <td>1.67</td>\n",
       "      <td>79.89</td>\n",
       "      <td>5.15</td>\n",
       "      <td>15.26</td>\n",
       "      <td>...</td>\n",
       "      <td>2.20</td>\n",
       "      <td>87.55</td>\n",
       "      <td>18.58</td>\n",
       "      <td>21.03</td>\n",
       "      <td>0</td>\n",
       "      <td>140</td>\n",
       "      <td>Buttock</td>\n",
       "      <td>60</td>\n",
       "      <td>10.0</td>\n",
       "      <td>70.0</td>\n",
       "    </tr>\n",
       "    <tr>\n",
       "      <td>6</td>\n",
       "      <td>45.72</td>\n",
       "      <td>104.00</td>\n",
       "      <td>11.65</td>\n",
       "      <td>2.82</td>\n",
       "      <td>5.29</td>\n",
       "      <td>0.92</td>\n",
       "      <td>1.00</td>\n",
       "      <td>72.47</td>\n",
       "      <td>-10.83</td>\n",
       "      <td>6.70</td>\n",
       "      <td>...</td>\n",
       "      <td>1.53</td>\n",
       "      <td>121.61</td>\n",
       "      <td>26.80</td>\n",
       "      <td>-4.81</td>\n",
       "      <td>1</td>\n",
       "      <td>90</td>\n",
       "      <td>Buttock</td>\n",
       "      <td>60</td>\n",
       "      <td>6.0</td>\n",
       "      <td>28.0</td>\n",
       "    </tr>\n",
       "    <tr>\n",
       "      <td>7</td>\n",
       "      <td>31.22</td>\n",
       "      <td>97.85</td>\n",
       "      <td>31.90</td>\n",
       "      <td>3.31</td>\n",
       "      <td>5.96</td>\n",
       "      <td>2.66</td>\n",
       "      <td>1.51</td>\n",
       "      <td>81.57</td>\n",
       "      <td>-2.21</td>\n",
       "      <td>6.22</td>\n",
       "      <td>...</td>\n",
       "      <td>2.57</td>\n",
       "      <td>69.82</td>\n",
       "      <td>-3.49</td>\n",
       "      <td>16.69</td>\n",
       "      <td>0</td>\n",
       "      <td>110</td>\n",
       "      <td>T12</td>\n",
       "      <td>20</td>\n",
       "      <td>10.0</td>\n",
       "      <td>60.0</td>\n",
       "    </tr>\n",
       "  </tbody>\n",
       "</table>\n",
       "<p>5 rows × 25 columns</p>\n",
       "</div>"
      ],
      "text/plain": [
       "       CSA  preLSA  preDSA  preGleneCDR  preGleneGT  preAcromionH  \\\n",
       "No.                                                                 \n",
       "1    22.27   68.65   30.47         3.03        5.59          2.73   \n",
       "2    33.64   89.11   24.09         3.62        6.02          2.16   \n",
       "4    32.63   95.86   27.62         3.11        5.61          1.46   \n",
       "6    45.72  104.00   11.65         2.82        5.29          0.92   \n",
       "7    31.22   97.85   31.90         3.31        5.96          2.66   \n",
       "\n",
       "     preAcromionL  preBetaAngle  preTiltH  preTiltF  ...  postAcromionL  \\\n",
       "No.                                                  ...                  \n",
       "1           -0.65         86.75     22.92     26.17  ...           1.07   \n",
       "2            0.95         71.52      4.35     22.83  ...           1.96   \n",
       "4            1.67         79.89      5.15     15.26  ...           2.20   \n",
       "6            1.00         72.47    -10.83      6.70  ...           1.53   \n",
       "7            1.51         81.57     -2.21      6.22  ...           2.57   \n",
       "\n",
       "     postBetaAngle  postTiltH  postTiltF  ySCAP  yAFE     yAIR  yAER  yPain  \\\n",
       "No.                                                                           \n",
       "1            71.97       5.12      23.15      0   160      T12    10   15.0   \n",
       "2            83.54      10.72      17.18      0   160      T12    60   15.0   \n",
       "4            87.55      18.58      21.03      0   140  Buttock    60   10.0   \n",
       "6           121.61      26.80      -4.81      1    90  Buttock    60    6.0   \n",
       "7            69.82      -3.49      16.69      0   110      T12    20   10.0   \n",
       "\n",
       "     yTotal  \n",
       "No.          \n",
       "1      80.0  \n",
       "2      81.0  \n",
       "4      70.0  \n",
       "6      28.0  \n",
       "7      60.0  \n",
       "\n",
       "[5 rows x 25 columns]"
      ]
     },
     "execution_count": 225,
     "metadata": {},
     "output_type": "execute_result"
    }
   ],
   "source": [
    "data.head()"
   ]
  },
  {
   "cell_type": "code",
   "execution_count": 226,
   "metadata": {},
   "outputs": [
    {
     "name": "stdout",
     "output_type": "stream",
     "text": [
      "<class 'pandas.core.frame.DataFrame'>\n",
      "Index: 101 entries, 1 to 51L\n",
      "Data columns (total 25 columns):\n",
      "CSA              93 non-null float64\n",
      "preLSA           93 non-null float64\n",
      "preDSA           93 non-null float64\n",
      "preGleneCDR      83 non-null float64\n",
      "preGleneGT       83 non-null float64\n",
      "preAcromionH     83 non-null float64\n",
      "preAcromionL     83 non-null float64\n",
      "preBetaAngle     91 non-null float64\n",
      "preTiltH         93 non-null float64\n",
      "preTiltF         91 non-null float64\n",
      "postLSA          99 non-null float64\n",
      "postDSA          99 non-null float64\n",
      "postGleneCDR     99 non-null float64\n",
      "postGleneGT      99 non-null float64\n",
      "postAcromionH    99 non-null float64\n",
      "postAcromionL    99 non-null float64\n",
      "postBetaAngle    98 non-null float64\n",
      "postTiltH        99 non-null float64\n",
      "postTiltF        98 non-null float64\n",
      "ySCAP            101 non-null int64\n",
      "yAFE             98 non-null float64\n",
      "yAIR             98 non-null object\n",
      "yAER             98 non-null float64\n",
      "yPain            98 non-null float64\n",
      "yTotal           98 non-null float64\n",
      "dtypes: float64(23), int64(1), object(1)\n",
      "memory usage: 20.5+ KB\n"
     ]
    }
   ],
   "source": [
    "data[['CSA', 'yAFE','yAER', 'yPain', 'yTotal']] = data[['CSA', 'yAFE','yAER', 'yPain', 'yTotal']].apply(pd.to_numeric)\n",
    "data.info()"
   ]
  },
  {
   "cell_type": "code",
   "execution_count": 227,
   "metadata": {},
   "outputs": [
    {
     "data": {
      "text/plain": [
       "L3         30\n",
       "T12        28\n",
       "SI         21\n",
       "Buttock    11\n",
       "T8          8\n",
       "Name: yAIR, dtype: int64"
      ]
     },
     "execution_count": 227,
     "metadata": {},
     "output_type": "execute_result"
    }
   ],
   "source": [
    "data['yAIR'].value_counts()"
   ]
  },
  {
   "cell_type": "code",
   "execution_count": 228,
   "metadata": {},
   "outputs": [
    {
     "data": {
      "text/html": [
       "<div>\n",
       "<style scoped>\n",
       "    .dataframe tbody tr th:only-of-type {\n",
       "        vertical-align: middle;\n",
       "    }\n",
       "\n",
       "    .dataframe tbody tr th {\n",
       "        vertical-align: top;\n",
       "    }\n",
       "\n",
       "    .dataframe thead th {\n",
       "        text-align: right;\n",
       "    }\n",
       "</style>\n",
       "<table border=\"1\" class=\"dataframe\">\n",
       "  <thead>\n",
       "    <tr style=\"text-align: right;\">\n",
       "      <th></th>\n",
       "      <th>CSA</th>\n",
       "      <th>preLSA</th>\n",
       "      <th>preDSA</th>\n",
       "      <th>preGleneCDR</th>\n",
       "      <th>preGleneGT</th>\n",
       "      <th>preAcromionH</th>\n",
       "      <th>preAcromionL</th>\n",
       "      <th>preBetaAngle</th>\n",
       "      <th>preTiltH</th>\n",
       "      <th>preTiltF</th>\n",
       "      <th>...</th>\n",
       "      <th>postAcromionH</th>\n",
       "      <th>postAcromionL</th>\n",
       "      <th>postBetaAngle</th>\n",
       "      <th>postTiltH</th>\n",
       "      <th>postTiltF</th>\n",
       "      <th>ySCAP</th>\n",
       "      <th>yAFE</th>\n",
       "      <th>yAER</th>\n",
       "      <th>yPain</th>\n",
       "      <th>yTotal</th>\n",
       "    </tr>\n",
       "  </thead>\n",
       "  <tbody>\n",
       "    <tr>\n",
       "      <td>count</td>\n",
       "      <td>93.000000</td>\n",
       "      <td>93.000000</td>\n",
       "      <td>93.000000</td>\n",
       "      <td>83.000000</td>\n",
       "      <td>83.000000</td>\n",
       "      <td>83.000000</td>\n",
       "      <td>83.000000</td>\n",
       "      <td>91.000000</td>\n",
       "      <td>93.000000</td>\n",
       "      <td>91.000000</td>\n",
       "      <td>...</td>\n",
       "      <td>99.000000</td>\n",
       "      <td>99.000000</td>\n",
       "      <td>98.000000</td>\n",
       "      <td>99.000000</td>\n",
       "      <td>98.000000</td>\n",
       "      <td>101.000000</td>\n",
       "      <td>98.000000</td>\n",
       "      <td>98.000000</td>\n",
       "      <td>98.000000</td>\n",
       "      <td>98.000000</td>\n",
       "    </tr>\n",
       "    <tr>\n",
       "      <td>mean</td>\n",
       "      <td>34.288387</td>\n",
       "      <td>87.191613</td>\n",
       "      <td>18.430753</td>\n",
       "      <td>3.055181</td>\n",
       "      <td>5.768554</td>\n",
       "      <td>1.555904</td>\n",
       "      <td>1.019518</td>\n",
       "      <td>74.870989</td>\n",
       "      <td>5.217849</td>\n",
       "      <td>20.374945</td>\n",
       "      <td>...</td>\n",
       "      <td>3.967576</td>\n",
       "      <td>1.819697</td>\n",
       "      <td>84.586327</td>\n",
       "      <td>11.636061</td>\n",
       "      <td>17.013061</td>\n",
       "      <td>0.029703</td>\n",
       "      <td>138.775510</td>\n",
       "      <td>26.632653</td>\n",
       "      <td>12.663265</td>\n",
       "      <td>69.918367</td>\n",
       "    </tr>\n",
       "    <tr>\n",
       "      <td>std</td>\n",
       "      <td>7.145425</td>\n",
       "      <td>19.692294</td>\n",
       "      <td>8.448571</td>\n",
       "      <td>0.432332</td>\n",
       "      <td>0.688680</td>\n",
       "      <td>0.643557</td>\n",
       "      <td>1.005701</td>\n",
       "      <td>9.230921</td>\n",
       "      <td>11.079340</td>\n",
       "      <td>9.051205</td>\n",
       "      <td>...</td>\n",
       "      <td>0.932812</td>\n",
       "      <td>0.967366</td>\n",
       "      <td>10.316099</td>\n",
       "      <td>11.609701</td>\n",
       "      <td>9.629768</td>\n",
       "      <td>0.170613</td>\n",
       "      <td>23.008977</td>\n",
       "      <td>21.027418</td>\n",
       "      <td>2.163159</td>\n",
       "      <td>11.384266</td>\n",
       "    </tr>\n",
       "    <tr>\n",
       "      <td>min</td>\n",
       "      <td>15.930000</td>\n",
       "      <td>11.760000</td>\n",
       "      <td>0.000000</td>\n",
       "      <td>1.980000</td>\n",
       "      <td>4.210000</td>\n",
       "      <td>0.000000</td>\n",
       "      <td>-2.950000</td>\n",
       "      <td>50.020000</td>\n",
       "      <td>-20.150000</td>\n",
       "      <td>1.930000</td>\n",
       "      <td>...</td>\n",
       "      <td>1.630000</td>\n",
       "      <td>-0.660000</td>\n",
       "      <td>59.740000</td>\n",
       "      <td>-17.160000</td>\n",
       "      <td>-11.000000</td>\n",
       "      <td>0.000000</td>\n",
       "      <td>60.000000</td>\n",
       "      <td>0.000000</td>\n",
       "      <td>6.000000</td>\n",
       "      <td>28.000000</td>\n",
       "    </tr>\n",
       "    <tr>\n",
       "      <td>25%</td>\n",
       "      <td>30.250000</td>\n",
       "      <td>81.500000</td>\n",
       "      <td>11.890000</td>\n",
       "      <td>2.770000</td>\n",
       "      <td>5.345000</td>\n",
       "      <td>1.130000</td>\n",
       "      <td>0.550000</td>\n",
       "      <td>71.235000</td>\n",
       "      <td>-0.860000</td>\n",
       "      <td>13.935000</td>\n",
       "      <td>...</td>\n",
       "      <td>3.390000</td>\n",
       "      <td>1.140000</td>\n",
       "      <td>79.277500</td>\n",
       "      <td>5.205000</td>\n",
       "      <td>12.332500</td>\n",
       "      <td>0.000000</td>\n",
       "      <td>130.000000</td>\n",
       "      <td>10.000000</td>\n",
       "      <td>12.000000</td>\n",
       "      <td>62.000000</td>\n",
       "    </tr>\n",
       "    <tr>\n",
       "      <td>50%</td>\n",
       "      <td>33.480000</td>\n",
       "      <td>91.590000</td>\n",
       "      <td>18.950000</td>\n",
       "      <td>3.060000</td>\n",
       "      <td>5.760000</td>\n",
       "      <td>1.540000</td>\n",
       "      <td>1.110000</td>\n",
       "      <td>74.240000</td>\n",
       "      <td>3.130000</td>\n",
       "      <td>19.660000</td>\n",
       "      <td>...</td>\n",
       "      <td>3.940000</td>\n",
       "      <td>1.730000</td>\n",
       "      <td>83.595000</td>\n",
       "      <td>11.210000</td>\n",
       "      <td>16.955000</td>\n",
       "      <td>0.000000</td>\n",
       "      <td>140.000000</td>\n",
       "      <td>30.000000</td>\n",
       "      <td>12.500000</td>\n",
       "      <td>71.000000</td>\n",
       "    </tr>\n",
       "    <tr>\n",
       "      <td>75%</td>\n",
       "      <td>38.530000</td>\n",
       "      <td>97.910000</td>\n",
       "      <td>24.090000</td>\n",
       "      <td>3.300000</td>\n",
       "      <td>6.175000</td>\n",
       "      <td>1.885000</td>\n",
       "      <td>1.605000</td>\n",
       "      <td>80.120000</td>\n",
       "      <td>10.810000</td>\n",
       "      <td>26.635000</td>\n",
       "      <td>...</td>\n",
       "      <td>4.600000</td>\n",
       "      <td>2.510000</td>\n",
       "      <td>91.050000</td>\n",
       "      <td>18.790000</td>\n",
       "      <td>23.425000</td>\n",
       "      <td>0.000000</td>\n",
       "      <td>150.000000</td>\n",
       "      <td>30.000000</td>\n",
       "      <td>15.000000</td>\n",
       "      <td>77.750000</td>\n",
       "    </tr>\n",
       "    <tr>\n",
       "      <td>max</td>\n",
       "      <td>57.750000</td>\n",
       "      <td>120.730000</td>\n",
       "      <td>39.030000</td>\n",
       "      <td>4.280000</td>\n",
       "      <td>7.750000</td>\n",
       "      <td>3.890000</td>\n",
       "      <td>3.190000</td>\n",
       "      <td>101.030000</td>\n",
       "      <td>48.570000</td>\n",
       "      <td>39.950000</td>\n",
       "      <td>...</td>\n",
       "      <td>6.090000</td>\n",
       "      <td>4.130000</td>\n",
       "      <td>121.610000</td>\n",
       "      <td>47.900000</td>\n",
       "      <td>43.200000</td>\n",
       "      <td>1.000000</td>\n",
       "      <td>180.000000</td>\n",
       "      <td>90.000000</td>\n",
       "      <td>15.000000</td>\n",
       "      <td>93.000000</td>\n",
       "    </tr>\n",
       "  </tbody>\n",
       "</table>\n",
       "<p>8 rows × 24 columns</p>\n",
       "</div>"
      ],
      "text/plain": [
       "             CSA      preLSA     preDSA  preGleneCDR  preGleneGT  \\\n",
       "count  93.000000   93.000000  93.000000    83.000000   83.000000   \n",
       "mean   34.288387   87.191613  18.430753     3.055181    5.768554   \n",
       "std     7.145425   19.692294   8.448571     0.432332    0.688680   \n",
       "min    15.930000   11.760000   0.000000     1.980000    4.210000   \n",
       "25%    30.250000   81.500000  11.890000     2.770000    5.345000   \n",
       "50%    33.480000   91.590000  18.950000     3.060000    5.760000   \n",
       "75%    38.530000   97.910000  24.090000     3.300000    6.175000   \n",
       "max    57.750000  120.730000  39.030000     4.280000    7.750000   \n",
       "\n",
       "       preAcromionH  preAcromionL  preBetaAngle   preTiltH   preTiltF  ...  \\\n",
       "count     83.000000     83.000000     91.000000  93.000000  91.000000  ...   \n",
       "mean       1.555904      1.019518     74.870989   5.217849  20.374945  ...   \n",
       "std        0.643557      1.005701      9.230921  11.079340   9.051205  ...   \n",
       "min        0.000000     -2.950000     50.020000 -20.150000   1.930000  ...   \n",
       "25%        1.130000      0.550000     71.235000  -0.860000  13.935000  ...   \n",
       "50%        1.540000      1.110000     74.240000   3.130000  19.660000  ...   \n",
       "75%        1.885000      1.605000     80.120000  10.810000  26.635000  ...   \n",
       "max        3.890000      3.190000    101.030000  48.570000  39.950000  ...   \n",
       "\n",
       "       postAcromionH  postAcromionL  postBetaAngle  postTiltH  postTiltF  \\\n",
       "count      99.000000      99.000000      98.000000  99.000000  98.000000   \n",
       "mean        3.967576       1.819697      84.586327  11.636061  17.013061   \n",
       "std         0.932812       0.967366      10.316099  11.609701   9.629768   \n",
       "min         1.630000      -0.660000      59.740000 -17.160000 -11.000000   \n",
       "25%         3.390000       1.140000      79.277500   5.205000  12.332500   \n",
       "50%         3.940000       1.730000      83.595000  11.210000  16.955000   \n",
       "75%         4.600000       2.510000      91.050000  18.790000  23.425000   \n",
       "max         6.090000       4.130000     121.610000  47.900000  43.200000   \n",
       "\n",
       "            ySCAP        yAFE       yAER      yPain     yTotal  \n",
       "count  101.000000   98.000000  98.000000  98.000000  98.000000  \n",
       "mean     0.029703  138.775510  26.632653  12.663265  69.918367  \n",
       "std      0.170613   23.008977  21.027418   2.163159  11.384266  \n",
       "min      0.000000   60.000000   0.000000   6.000000  28.000000  \n",
       "25%      0.000000  130.000000  10.000000  12.000000  62.000000  \n",
       "50%      0.000000  140.000000  30.000000  12.500000  71.000000  \n",
       "75%      0.000000  150.000000  30.000000  15.000000  77.750000  \n",
       "max      1.000000  180.000000  90.000000  15.000000  93.000000  \n",
       "\n",
       "[8 rows x 24 columns]"
      ]
     },
     "execution_count": 228,
     "metadata": {},
     "output_type": "execute_result"
    }
   ],
   "source": [
    "data.describe()"
   ]
  },
  {
   "cell_type": "code",
   "execution_count": 229,
   "metadata": {},
   "outputs": [
    {
     "data": {
      "image/png": "[encoded data removed]",
      "text/plain": [
       "<Figure size 1440x1080 with 25 Axes>"
      ]
     },
     "metadata": {
      "needs_background": "light"
     },
     "output_type": "display_data"
    }
   ],
   "source": [
    "%matplotlib inline\n",
    "import matplotlib.pyplot as plt\n",
    "data.hist(bins=50, figsize=(20,15))\n",
    "plt.show()"
   ]
  },
  {
   "cell_type": "markdown",
   "metadata": {},
   "source": [
    "- Outliers have been checked with JDW\n",
    "- Attributes on very different scales (feature scaling needed)\n",
    "- Many histo are heavy-tailed so harder to predict patterns (feature transformation needed to make it bell-shaped)"
   ]
  },
  {
   "cell_type": "code",
   "execution_count": 230,
   "metadata": {},
   "outputs": [],
   "source": [
    "corr = data.corr()"
   ]
  },
  {
   "cell_type": "code",
   "execution_count": 231,
   "metadata": {},
   "outputs": [
    {
     "data": {
      "text/plain": [
       "yTotal           1.000000\n",
       "yAFE             0.737368\n",
       "yPain            0.684177\n",
       "yAER             0.389882\n",
       "postAcromionL    0.104961\n",
       "preTiltF         0.078885\n",
       "postDSA          0.050244\n",
       "CSA              0.020284\n",
       "preTiltH         0.012790\n",
       "preGleneCDR      0.008868\n",
       "postAcromionH   -0.021807\n",
       "preLSA          -0.025311\n",
       "preAcromionH    -0.041848\n",
       "preBetaAngle    -0.060596\n",
       "preGleneGT      -0.062073\n",
       "preAcromionL    -0.070870\n",
       "postGleneCDR    -0.124440\n",
       "postTiltF       -0.135215\n",
       "preDSA          -0.153058\n",
       "postLSA         -0.165487\n",
       "postGleneGT     -0.190724\n",
       "postBetaAngle   -0.244092\n",
       "postTiltH       -0.335526\n",
       "ySCAP           -0.343898\n",
       "Name: yTotal, dtype: float64"
      ]
     },
     "execution_count": 231,
     "metadata": {},
     "output_type": "execute_result"
    }
   ],
   "source": [
    "corr['yTotal'].sort_values(ascending=False)"
   ]
  },
  {
   "cell_type": "markdown",
   "metadata": {},
   "source": [
    "- The correlation coefficient only measures linear dependence (“if x\n",
    "goes up, then y generally goes up/down”): 1/ It may completely miss\n",
    "out on nonlinear relationships 2/ has nothing to do with the slope\n",
    "\n",
    "- pair scatter plots on few promising attributes that seem correlated with yTotal"
   ]
  },
  {
   "cell_type": "code",
   "execution_count": 232,
   "metadata": {},
   "outputs": [
    {
     "data": {
      "image/png": "[encoded data removed]",
      "text/plain": [
       "<Figure size 864x576 with 25 Axes>"
      ]
     },
     "metadata": {
      "needs_background": "light"
     },
     "output_type": "display_data"
    }
   ],
   "source": [
    "from pandas.plotting import scatter_matrix\n",
    "attributes = [\"yTotal\", \"postTiltH\", \"postBetaAngle\",\n",
    "\"postGleneGT\", \"postLSA\"]\n",
    "scatter_matrix(data[attributes], figsize=(12, 8))\n",
    "plt.show()"
   ]
  },
  {
   "cell_type": "code",
   "execution_count": 233,
   "metadata": {},
   "outputs": [
    {
     "data": {
      "text/plain": [
       "<matplotlib.axes._subplots.AxesSubplot at 0x7fee4a6252e8>"
      ]
     },
     "execution_count": 233,
     "metadata": {},
     "output_type": "execute_result"
    },
    {
     "data": {
      "image/png": "[encoded data removed]",
      "text/plain": [
       "<Figure size 432x288 with 1 Axes>"
      ]
     },
     "metadata": {
      "needs_background": "light"
     },
     "output_type": "display_data"
    }
   ],
   "source": [
    "data.plot(kind=\"scatter\", x=\"postTiltH\", y=\"yTotal\",\n",
    "alpha=0.4)"
   ]
  },
  {
   "cell_type": "markdown",
   "metadata": {},
   "source": [
    "- not very strong correlation (dispersed points)\n",
    "- try out various attribute combinations (combine some not very useful features for more pertinent one eg rooms per households, bedrooms per room...) and look at correlation matrix again"
   ]
  },
  {
   "cell_type": "code",
   "execution_count": 234,
   "metadata": {},
   "outputs": [
    {
     "data": {
      "text/plain": [
       "yTotal            1.000000\n",
       "yAFE              0.737368\n",
       "yPain             0.684177\n",
       "yAER              0.389882\n",
       "ratioAcromionH    0.135706\n",
       "ratioDSA          0.133668\n",
       "postAcromionL     0.104961\n",
       "preTiltF          0.078885\n",
       "postDSA           0.050244\n",
       "CSA               0.020284\n",
       "preTiltH          0.012790\n",
       "preGleneCDR       0.008868\n",
       "postAcromionH    -0.021807\n",
       "preLSA           -0.025311\n",
       "preAcromionH     -0.041848\n",
       "preBetaAngle     -0.060596\n",
       "preGleneGT       -0.062073\n",
       "ratioTiltH       -0.068754\n",
       "preAcromionL     -0.070870\n",
       "ratioTiltF       -0.079391\n",
       "ratioGleneGT     -0.081154\n",
       "ratioLSA         -0.083078\n",
       "postGleneCDR     -0.124440\n",
       "postTiltF        -0.135215\n",
       "ratioGleneCDR    -0.151814\n",
       "preDSA           -0.153058\n",
       "ratioBetaAngle   -0.159125\n",
       "ratioAcromionL   -0.162143\n",
       "postLSA          -0.165487\n",
       "postGleneGT      -0.190724\n",
       "postBetaAngle    -0.244092\n",
       "postTiltH        -0.335526\n",
       "ySCAP            -0.343898\n",
       "Name: yTotal, dtype: float64"
      ]
     },
     "execution_count": 234,
     "metadata": {},
     "output_type": "execute_result"
    }
   ],
   "source": [
    "data_aug = data.copy()\n",
    "data_aug[\"ratioLSA\"] = data[\"postLSA\"]/data[\"preLSA\"]\n",
    "data_aug[\"ratioDSA\"] = data[\"postDSA\"]/data[\"preDSA\"]\n",
    "data_aug[\"ratioGleneCDR\"] = data[\"postGleneCDR\"]/data[\"preGleneCDR\"]\n",
    "data_aug[\"ratioGleneGT\"] = data[\"postGleneGT\"]/data[\"preGleneGT\"]\n",
    "data_aug[\"ratioAcromionH\"] = data[\"postAcromionH\"]/data[\"preAcromionH\"]\n",
    "data_aug[\"ratioAcromionL\"] = data[\"postAcromionL\"]/data[\"preAcromionL\"]\n",
    "data_aug[\"ratioBetaAngle\"] = data[\"postBetaAngle\"]/data[\"preBetaAngle\"]\n",
    "data_aug[\"ratioTiltH\"] = data[\"postTiltH\"]/data[\"preTiltH\"]\n",
    "data_aug[\"ratioTiltF\"] = data[\"postTiltF\"]/data[\"preTiltF\"]\n",
    "corr = data_aug.corr()\n",
    "corr[\"yTotal\"].sort_values(ascending=False)"
   ]
  },
  {
   "cell_type": "markdown",
   "metadata": {},
   "source": [
    "- ratioAcromionH, ratioAcromionL seems better attributes (GleneCDR et DSA un peu)"
   ]
  },
  {
   "cell_type": "markdown",
   "metadata": {},
   "source": [
    "### Custom transformers to add attributes"
   ]
  },
  {
   "cell_type": "code",
   "execution_count": 235,
   "metadata": {},
   "outputs": [],
   "source": [
    "from sklearn.base import BaseEstimator, TransformerMixin\n",
    "import numpy as np\n",
    "\n",
    "preAcromionH_ix, preAcromionL_ix, postAcromionH_ix, postAcromionL_ix = 5, 6, 14, 15\n",
    "\n",
    "\n",
    "class CombinedAttributesAdder(BaseEstimator, TransformerMixin):\n",
    "    def __init__(self, add_ratios = False): \n",
    "        self.add_ratios = add_ratios\n",
    "    def fit(self, X, y=None):\n",
    "        return self \n",
    "    def transform(self, X, y=None):\n",
    "        if self.add_ratios:\n",
    "            ratioAcromionH = X[:, postAcromionH_ix] / X[:, preAcromionH_ix]\n",
    "            ratioAcromionL = X[:, postAcromionL_ix] / X[:, preAcromionL_ix]\n",
    "            return np.c_[X, ratioAcromionH, ratioAcromionL]\n",
    "        else:\n",
    "            return X"
   ]
  },
  {
   "cell_type": "markdown",
   "metadata": {},
   "source": [
    "### Data Preparation\n",
    "- **Cleaning**: get rid of all subjects w/o yAIR bc categorical can't impute\n",
    "- **On numerical attributes**:\n",
    "    - Imputation: to handle missing values of numerical attributes\n",
    "    - Complete: add promising attributes\n",
    "    - Feature scaling: ML algo don’t perform well when the input numerical attributes have very different scales\n",
    "- **On categorical attributes**:\n",
    "     - OneHotEncoding: from text cat to int cat to 1hot vec"
   ]
  },
  {
   "cell_type": "code",
   "execution_count": 236,
   "metadata": {},
   "outputs": [
    {
     "name": "stdout",
     "output_type": "stream",
     "text": [
      "<class 'pandas.core.frame.DataFrame'>\n",
      "Index: 98 entries, 1 to 51L\n",
      "Data columns (total 6 columns):\n",
      "ySCAP     98 non-null int64\n",
      "yAFE      98 non-null float64\n",
      "yAIR      98 non-null object\n",
      "yAER      98 non-null float64\n",
      "yPain     98 non-null float64\n",
      "yTotal    98 non-null float64\n",
      "dtypes: float64(4), int64(1), object(1)\n",
      "memory usage: 5.4+ KB\n",
      "<class 'pandas.core.frame.DataFrame'>\n",
      "Index: 98 entries, 1 to 51L\n",
      "Data columns (total 19 columns):\n",
      "CSA              91 non-null float64\n",
      "preLSA           91 non-null float64\n",
      "preDSA           91 non-null float64\n",
      "preGleneCDR      82 non-null float64\n",
      "preGleneGT       82 non-null float64\n",
      "preAcromionH     82 non-null float64\n",
      "preAcromionL     82 non-null float64\n",
      "preBetaAngle     89 non-null float64\n",
      "preTiltH         91 non-null float64\n",
      "preTiltF         89 non-null float64\n",
      "postLSA          97 non-null float64\n",
      "postDSA          97 non-null float64\n",
      "postGleneCDR     97 non-null float64\n",
      "postGleneGT      97 non-null float64\n",
      "postAcromionH    97 non-null float64\n",
      "postAcromionL    97 non-null float64\n",
      "postBetaAngle    96 non-null float64\n",
      "postTiltH        97 non-null float64\n",
      "postTiltF        96 non-null float64\n",
      "dtypes: float64(19)\n",
      "memory usage: 15.3+ KB\n"
     ]
    }
   ],
   "source": [
    "data = data.dropna(subset=['yAIR'])\n",
    "\n",
    "ylabels = ['ySCAP', 'yAFE', 'yAIR', 'yAER', 'yPain', 'yTotal']\n",
    "\n",
    "data_labels = data[ylabels].copy()\n",
    "data_labels.info()\n",
    "\n",
    "data = data.drop(ylabels, axis=1)\n",
    "data.info()"
   ]
  },
  {
   "cell_type": "code",
   "execution_count": 355,
   "metadata": {},
   "outputs": [
    {
     "data": {
      "text/plain": [
       "((98, 19), (98,))"
      ]
     },
     "execution_count": 355,
     "metadata": {},
     "output_type": "execute_result"
    }
   ],
   "source": [
    "from sklearn.pipeline import Pipeline\n",
    "from sklearn.preprocessing import StandardScaler, Imputer, LabelBinarizer\n",
    "\n",
    "pipeline = Pipeline([\n",
    "    ('imputer', Imputer(strategy=\"median\")),\n",
    "    ('attribs_adder', CombinedAttributesAdder(add_ratios=False)),\n",
    "#    ('std_scaler', StandardScaler()), \n",
    "])\n",
    "\n",
    "X = pipeline.fit_transform(data)\n",
    "y = data_labels['yTotal'].values\n",
    "X.shape, y.shape"
   ]
  },
  {
   "cell_type": "code",
   "execution_count": 356,
   "metadata": {},
   "outputs": [
    {
     "name": "stdout",
     "output_type": "stream",
     "text": [
      "Target variable lies in 28-93\n"
     ]
    }
   ],
   "source": [
    "from sklearn.model_selection import cross_val_score, KFold\n",
    "\n",
    "cv = KFold(n_splits=10, random_state=42)\n",
    "print(f'Target variable lies in {y.min():.0f}-{y.max():.0f}')"
   ]
  },
  {
   "cell_type": "markdown",
   "metadata": {},
   "source": [
    "### Train & evaluate model"
   ]
  },
  {
   "cell_type": "code",
   "execution_count": 305,
   "metadata": {},
   "outputs": [
    {
     "name": "stdout",
     "output_type": "stream",
     "text": [
      "Prediction score: 13.45 +/- 6.32\n"
     ]
    }
   ],
   "source": [
    "from sklearn.linear_model import LinearRegression\n",
    "lin_reg = LinearRegression()\n",
    "scores = - cross_val_score(lin_reg, X, y, cv=cv,\n",
    "                         scoring='neg_mean_absolute_error')\n",
    "\n",
    "print(f'Prediction score: {scores.mean():.2f} +/- {scores.std():.2f}')"
   ]
  },
  {
   "cell_type": "code",
   "execution_count": 306,
   "metadata": {},
   "outputs": [
    {
     "name": "stdout",
     "output_type": "stream",
     "text": [
      "Prediction score: 11.35 +/- 2.00\n"
     ]
    }
   ],
   "source": [
    "from sklearn.tree import DecisionTreeRegressor\n",
    "\n",
    "tree_reg = DecisionTreeRegressor()\n",
    "scores = - cross_val_score(tree_reg, X, y, cv=cv,\n",
    "                         scoring='neg_mean_absolute_error')\n",
    "\n",
    "print(f'Prediction score: {scores.mean():.2f} +/- {scores.std():.2f}')"
   ]
  },
  {
   "cell_type": "code",
   "execution_count": 307,
   "metadata": {},
   "outputs": [
    {
     "name": "stdout",
     "output_type": "stream",
     "text": [
      "Prediction score: 9.55 +/- 1.78\n"
     ]
    }
   ],
   "source": [
    "from sklearn.ensemble import RandomForestRegressor\n",
    "\n",
    "forest_reg = RandomForestRegressor(n_estimators=100)\n",
    "scores = - cross_val_score(forest_reg, X, y, cv=cv,\n",
    "                         scoring='neg_mean_absolute_error')\n",
    "\n",
    "print(f'Prediction score: {scores.mean():.2f} +/- {scores.std():.2f}')"
   ]
  },
  {
   "cell_type": "code",
   "execution_count": 357,
   "metadata": {},
   "outputs": [
    {
     "data": {
      "text/plain": [
       "({'bootstrap': False, 'max_features': 2, 'n_estimators': 60}, 9.21734693877551)"
      ]
     },
     "execution_count": 357,
     "metadata": {},
     "output_type": "execute_result"
    }
   ],
   "source": [
    "from sklearn.model_selection import GridSearchCV\n",
    "\n",
    "param_grid = [\n",
    "{'bootstrap': [True],\n",
    " 'n_estimators': [30, 60, 100], 'max_features': [2, 4, 6, 8]},\n",
    "{'bootstrap': [False],\n",
    " 'n_estimators': [30, 60, 100], 'max_features': [2, 4, 6, 8]},\n",
    "]\n",
    "\n",
    "forest_reg = RandomForestRegressor()\n",
    "grid_search = GridSearchCV(forest_reg, param_grid, cv=cv,\n",
    "                           scoring='neg_mean_absolute_error')\n",
    "grid_search.fit(X,y)\n",
    "grid_search.best_params_, - grid_search.best_score_"
   ]
  },
  {
   "cell_type": "code",
   "execution_count": 353,
   "metadata": {
    "scrolled": true
   },
   "outputs": [
    {
     "name": "stdout",
     "output_type": "stream",
     "text": [
      "9.47 {'bootstrap': True, 'max_features': 2, 'n_estimators': 30}\n",
      "9.35 {'bootstrap': True, 'max_features': 2, 'n_estimators': 60}\n",
      "9.54 {'bootstrap': True, 'max_features': 2, 'n_estimators': 100}\n",
      "9.60 {'bootstrap': True, 'max_features': 4, 'n_estimators': 30}\n",
      "9.77 {'bootstrap': True, 'max_features': 4, 'n_estimators': 60}\n",
      "9.48 {'bootstrap': True, 'max_features': 4, 'n_estimators': 100}\n",
      "9.93 {'bootstrap': True, 'max_features': 6, 'n_estimators': 30}\n",
      "9.89 {'bootstrap': True, 'max_features': 6, 'n_estimators': 60}\n",
      "9.40 {'bootstrap': True, 'max_features': 6, 'n_estimators': 100}\n",
      "9.56 {'bootstrap': True, 'max_features': 8, 'n_estimators': 30}\n",
      "9.63 {'bootstrap': True, 'max_features': 8, 'n_estimators': 60}\n",
      "9.42 {'bootstrap': True, 'max_features': 8, 'n_estimators': 100}\n",
      "9.75 {'bootstrap': False, 'max_features': 2, 'n_estimators': 30}\n",
      "9.39 {'bootstrap': False, 'max_features': 2, 'n_estimators': 60}\n",
      "9.47 {'bootstrap': False, 'max_features': 2, 'n_estimators': 100}\n",
      "9.47 {'bootstrap': False, 'max_features': 4, 'n_estimators': 30}\n",
      "9.56 {'bootstrap': False, 'max_features': 4, 'n_estimators': 60}\n",
      "9.69 {'bootstrap': False, 'max_features': 4, 'n_estimators': 100}\n",
      "9.66 {'bootstrap': False, 'max_features': 6, 'n_estimators': 30}\n",
      "9.84 {'bootstrap': False, 'max_features': 6, 'n_estimators': 60}\n",
      "9.68 {'bootstrap': False, 'max_features': 6, 'n_estimators': 100}\n",
      "10.14 {'bootstrap': False, 'max_features': 8, 'n_estimators': 30}\n",
      "9.90 {'bootstrap': False, 'max_features': 8, 'n_estimators': 60}\n",
      "9.82 {'bootstrap': False, 'max_features': 8, 'n_estimators': 100}\n"
     ]
    }
   ],
   "source": [
    "res = grid_search.cv_results_\n",
    "for mean_score, params in zip(res['mean_test_score'], res['params']):\n",
    "    print(f'{-mean_score:.2f} {params}')"
   ]
  },
  {
   "cell_type": "code",
   "execution_count": 354,
   "metadata": {},
   "outputs": [
    {
     "data": {
      "text/plain": [
       "[(0.08150116258925376, 'postTiltH'),\n",
       " (0.07011202742129485, 'preDSA'),\n",
       " (0.06491757197387288, 'postBetaAngle'),\n",
       " (0.06091700902730995, 'postTiltF'),\n",
       " (0.05934230424477429, 'postGleneGT'),\n",
       " (0.05755392247409823, 'postGleneCDR'),\n",
       " (0.05115491084266178, 'preGleneGT'),\n",
       " (0.05101181582981825, 'preTiltF'),\n",
       " (0.050947312843617365, 'postDSA'),\n",
       " (0.048869208687575494, 'preBetaAngle'),\n",
       " (0.04882710908046134, 'postAcromionH'),\n",
       " (0.04855387412132586, 'postLSA'),\n",
       " (0.04796486583697339, 'preTiltH'),\n",
       " (0.04696684504878603, 'postAcromionL'),\n",
       " (0.046609443820232244, 'preAcromionH'),\n",
       " (0.04464774674646053, 'preLSA'),\n",
       " (0.042811363075460726, 'CSA'),\n",
       " (0.03866392865747683, 'preAcromionL'),\n",
       " (0.03862757767854637, 'preGleneCDR')]"
      ]
     },
     "execution_count": 354,
     "metadata": {},
     "output_type": "execute_result"
    }
   ],
   "source": [
    "feature_importances = grid_search.best_estimator_.feature_importances_\n",
    "attributes = list(data)\n",
    "sorted(zip(feature_importances, attributes), reverse=True)"
   ]
  },
  {
   "cell_type": "code",
   "execution_count": null,
   "metadata": {},
   "outputs": [],
   "source": []
  },
  {
   "cell_type": "code",
   "execution_count": null,
   "metadata": {},
   "outputs": [],
   "source": []
  }
 ],
 "metadata": {
  "kernelspec": {
   "display_name": "Python 3",
   "language": "python",
   "name": "python3"
  },
  "language_info": {
   "codemirror_mode": {
    "name": "ipython",
    "version": 3
   },
   "file_extension": ".py",
   "mimetype": "text/x-python",
   "name": "python",
   "nbconvert_exporter": "python",
   "pygments_lexer": "ipython3",
   "version": "3.7.3"
  }
 },
 "nbformat": 4,
 "nbformat_minor": 2
}
